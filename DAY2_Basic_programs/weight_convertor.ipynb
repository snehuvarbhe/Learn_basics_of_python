{
 "cells": [
  {
   "cell_type": "code",
   "execution_count": 3,
   "metadata": {},
   "outputs": [
    {
     "name": "stdout",
     "output_type": "stream",
     "text": [
      "Weight 21\n",
      "weight is LBS: 46.666666666666664\n",
      "Done\n"
     ]
    }
   ],
   "source": [
    "weight=int(input(\"Enter the weight\"))\n",
    "print(\"Weight\",weight)\n",
    "s=input(\"'K' or 'L'\")\n",
    "if s.upper()==\"K\":\n",
    "    w=weight/0.45\n",
    "    print(\"weight is LBS:\",w)\n",
    "else:\n",
    "    w=weight*0.45\n",
    "    print(\"weight is Kgs:\",w)\n",
    "print(\"Done\")"
   ]
  }
 ],
 "metadata": {
  "kernelspec": {
   "display_name": "Python 3",
   "language": "python",
   "name": "python3"
  },
  "language_info": {
   "codemirror_mode": {
    "name": "ipython",
    "version": 3
   },
   "file_extension": ".py",
   "mimetype": "text/x-python",
   "name": "python",
   "nbconvert_exporter": "python",
   "pygments_lexer": "ipython3",
   "version": "3.9.19"
  }
 },
 "nbformat": 4,
 "nbformat_minor": 2
}
