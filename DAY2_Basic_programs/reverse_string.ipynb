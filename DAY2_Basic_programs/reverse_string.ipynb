{
 "cells": [
  {
   "cell_type": "markdown",
   "metadata": {},
   "source": [
    "# Reverse a string:\n",
    "\n",
    "Given a string input print it in reverse manner"
   ]
  },
  {
   "cell_type": "code",
   "execution_count": 13,
   "metadata": {},
   "outputs": [
    {
     "name": "stdout",
     "output_type": "stream",
     "text": [
      "hello snehal\n",
      "reverse string is :  lahens olleh\n"
     ]
    }
   ],
   "source": [
    "#method 1-with indexing\n",
    "def reverse_string(s):\n",
    "    return st[::-1]\n",
    "st=input(\"Enter a string to reverse\")\n",
    "print(\"Original string: \",st)\n",
    "print(\"Reverse string is : \",reverse_string(st))\n",
    "\n"
   ]
  },
  {
   "cell_type": "code",
   "execution_count": 14,
   "metadata": {},
   "outputs": [
    {
     "name": "stdout",
     "output_type": "stream",
     "text": [
      "hello snehal\n",
      "reverse string is : lahens olleh"
     ]
    }
   ],
   "source": [
    "#method 2\n",
    "st=input(\"Enter a string to reverse\")\n",
    "print(\"Original string: \",st)\n",
    "print(\"reverse string is : \",end=\"\")\n",
    "i=len(st)\n",
    "while(i>0):\n",
    "    print(st[i-1],end=\"\")\n",
    "    i=i-1\n"
   ]
  },
  {
   "cell_type": "code",
   "execution_count": 27,
   "metadata": {},
   "outputs": [
    {
     "name": "stdout",
     "output_type": "stream",
     "text": [
      "Original string: Hello, World!\n",
      "Reversed string: !\n"
     ]
    }
   ],
   "source": [
    "#method3\n",
    "def reverse_string(s):\n",
    "    reversed_str = \"\"\n",
    "    for char in s:\n",
    "        reversed_str = char + reversed_str\n",
    "    return reversed_str\n",
    "\n",
    "# Example usage\n",
    "input_string = \"Hello, World!\"\n",
    "reversed_string = reverse_string(input_string)\n",
    "print(\"Original string:\", input_string)\n",
    "print(\"Reversed string:\", reversed_string)"
   ]
  }
 ],
 "metadata": {
  "kernelspec": {
   "display_name": "base",
   "language": "python",
   "name": "python3"
  },
  "language_info": {
   "codemirror_mode": {
    "name": "ipython",
    "version": 3
   },
   "file_extension": ".py",
   "mimetype": "text/x-python",
   "name": "python",
   "nbconvert_exporter": "python",
   "pygments_lexer": "ipython3",
   "version": "3.9.19"
  }
 },
 "nbformat": 4,
 "nbformat_minor": 2
}
