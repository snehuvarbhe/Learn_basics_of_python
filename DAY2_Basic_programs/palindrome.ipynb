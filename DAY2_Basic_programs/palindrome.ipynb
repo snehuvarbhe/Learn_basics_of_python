{
 "cells": [
  {
   "cell_type": "markdown",
   "metadata": {},
   "source": [
    "# Palindrome \n",
    "\n",
    "Write a Python program to Check Palindrome"
   ]
  },
  {
   "cell_type": "code",
   "execution_count": 5,
   "metadata": {},
   "outputs": [
    {
     "name": "stdout",
     "output_type": "stream",
     "text": [
      "Input: 12345\n",
      "Not a palindrome\n"
     ]
    }
   ],
   "source": [
    "def pal(s):\n",
    "    s=s.replace(\" \",\"\").lower()\n",
    "    emp=\"\"\n",
    "    for c in s:\n",
    "        emp=c+emp\n",
    "    if emp==s:\n",
    "        print(\"String is a palindrome\")\n",
    "    else:\n",
    "        print(\"Not a palindrome\")\n",
    "\n",
    "str=input(\"Enter the input\")\n",
    "print(\"Input:\",str)\n",
    "pal(str)"
   ]
  }
 ],
 "metadata": {
  "kernelspec": {
   "display_name": "base",
   "language": "python",
   "name": "python3"
  },
  "language_info": {
   "codemirror_mode": {
    "name": "ipython",
    "version": 3
   },
   "file_extension": ".py",
   "mimetype": "text/x-python",
   "name": "python",
   "nbconvert_exporter": "python",
   "pygments_lexer": "ipython3",
   "version": "3.9.19"
  }
 },
 "nbformat": 4,
 "nbformat_minor": 2
}
