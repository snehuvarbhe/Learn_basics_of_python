{
 "cells": [
  {
   "cell_type": "markdown",
   "metadata": {},
   "source": [
    "# Vowel count\n",
    "\n",
    "Write a Python program to Count Vowels in a String"
   ]
  },
  {
   "cell_type": "code",
   "execution_count": 14,
   "metadata": {},
   "outputs": [
    {
     "name": "stdout",
     "output_type": "stream",
     "text": [
      "hello world\n",
      "Number of vovels are: 3\n"
     ]
    }
   ],
   "source": [
    "def count(s):\n",
    "    vowel=\"aeiou\"\n",
    "    c=0\n",
    "    for char in s:\n",
    "        for v in vowel:\n",
    "            if char.lower()==v:\n",
    "                c=c+1\n",
    "    print(\"Number of vovels are:\",c)\n",
    "\n",
    "str=input(\"Enter the string\")\n",
    "print(str)\n",
    "count(str)"
   ]
  }
 ],
 "metadata": {
  "kernelspec": {
   "display_name": "base",
   "language": "python",
   "name": "python3"
  },
  "language_info": {
   "codemirror_mode": {
    "name": "ipython",
    "version": 3
   },
   "file_extension": ".py",
   "mimetype": "text/x-python",
   "name": "python",
   "nbconvert_exporter": "python",
   "pygments_lexer": "ipython3",
   "version": "3.9.19"
  }
 },
 "nbformat": 4,
 "nbformat_minor": 2
}
