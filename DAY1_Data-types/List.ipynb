{
 "cells": [
  {
   "cell_type": "markdown",
   "metadata": {},
   "source": [
    "# List data type"
   ]
  },
  {
   "cell_type": "code",
   "execution_count": 1,
   "metadata": {},
   "outputs": [
    {
     "name": "stdout",
     "output_type": "stream",
     "text": [
      "[1, 2]\n",
      "['e', 100, 2.4]\n"
     ]
    }
   ],
   "source": [
    "List1=list([1,2])\n",
    "print(List1)\n",
    "List2=['e',100,2.4]\n",
    "print(List2)"
   ]
  },
  {
   "cell_type": "markdown",
   "metadata": {},
   "source": [
    "1. Accessing element"
   ]
  },
  {
   "cell_type": "code",
   "execution_count": 2,
   "metadata": {},
   "outputs": [
    {
     "name": "stdout",
     "output_type": "stream",
     "text": [
      "Hello\n"
     ]
    }
   ],
   "source": [
    "a=[1,'Hello',3.5]\n",
    "print(a[1])"
   ]
  },
  {
   "cell_type": "markdown",
   "metadata": {},
   "source": [
    "2. Replace element from list"
   ]
  },
  {
   "cell_type": "code",
   "execution_count": 3,
   "metadata": {},
   "outputs": [
    {
     "name": "stdout",
     "output_type": "stream",
     "text": [
      "['replaces value', 3.5, 1]\n"
     ]
    }
   ],
   "source": [
    "b=[\"welcome\",3.5,1]\n",
    "b[0]=\"replaces value\"\n",
    "print(b)"
   ]
  },
  {
   "cell_type": "markdown",
   "metadata": {},
   "source": [
    "3. Delete element from list"
   ]
  },
  {
   "cell_type": "code",
   "execution_count": 4,
   "metadata": {},
   "outputs": [
    {
     "name": "stdout",
     "output_type": "stream",
     "text": [
      "['yo', 3.5]\n",
      "[3.5]\n",
      "[]\n"
     ]
    }
   ],
   "source": [
    "c=[\"yo\",3.5,2]\n",
    "#remove element by index method1\n",
    "del c[2]\n",
    "print(c)\n",
    "#method2\n",
    "c.remove(\"yo\")\n",
    "print(c)\n",
    "#remove value by value\n",
    "c.pop(0)\n",
    "print(c)"
   ]
  },
  {
   "cell_type": "markdown",
   "metadata": {},
   "source": [
    "4. Adding elements to list"
   ]
  },
  {
   "cell_type": "code",
   "execution_count": 2,
   "metadata": {},
   "outputs": [
    {
     "name": "stdout",
     "output_type": "stream",
     "text": [
      "[1, 'hi', 3.5, True]\n",
      "[1, 6.7, 'hi', 3.5, True]\n"
     ]
    }
   ],
   "source": [
    "#addition at end\n",
    "l=[1,\"hi\",3.5]\n",
    "l.append(True)\n",
    "print(l)\n",
    "#addition in between\n",
    "l.insert(1,6.7)\n",
    "print(l)"
   ]
  }
 ],
 "metadata": {
  "kernelspec": {
   "display_name": "Python 3",
   "language": "python",
   "name": "python3"
  },
  "language_info": {
   "codemirror_mode": {
    "name": "ipython",
    "version": 3
   },
   "file_extension": ".py",
   "mimetype": "text/x-python",
   "name": "python",
   "nbconvert_exporter": "python",
   "pygments_lexer": "ipython3",
   "version": "3.9.18"
  }
 },
 "nbformat": 4,
 "nbformat_minor": 2
}
